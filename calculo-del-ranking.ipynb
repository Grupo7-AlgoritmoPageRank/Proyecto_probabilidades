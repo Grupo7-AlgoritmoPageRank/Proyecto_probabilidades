{
 "cells": [
  {
   "cell_type": "markdown",
   "metadata": {},
   "source": [
    "#  Cálculo del ranking  de paises sudamericanos que participaron en las eliminatorias para el mundial Rusia 2018  usando el algoritmo PageRank."
   ]
  },
  {
   "cell_type": "markdown",
   "metadata": {},
   "source": [
    "## Algoritmo PageRank:\n",
    "<div class=text-justify>\n",
    "### PageRank es una marca registrada y patentada1  por Google el 9 de enero de 1999 que ampara una familia de algoritmos utilizados para asignar de forma numérica la relevancia de los documentos (o páginas web) indexados por un motor de búsqueda. El primer documento sobre el proyecto, que describe el PageRank y el prototipo inicial del motor de búsqueda de Google, se publicó en 1998. Sus propiedades son muy discutidas por los expertos en optimización de motores de búsqueda. El sistema PageRank es utilizado por el popular motor de búsqueda Google para ayudarle a determinar la importancia o relevancia de una página. Fue desarrollado por los fundadores de Google, Larry Page (apellido, del cual, recibe el nombre este algoritmo) y Sergey Brin, en la Universidad de Stanford mientras estudiaban el posgrado en ciencias de la computación.\n",
    "\n",
    "### PageRank confía en la naturaleza democrática de la web utilizando su vasta estructura de enlaces como un indicador del valor de una página en concreto. Google interpreta un enlace de una página A a una página B como un voto, de la página A, para la página B. Pero Google mira más allá del volumen de votos, o enlaces que una página recibe; también analiza la página que emite el voto. Los votos emitidos por las páginas consideradas \"importantes\", es decir con un PageRank elevado, valen más, y ayudan a hacer a otras páginas \"importantes\". Por lo tanto, el PageRank de una página refleja la importancia de la misma en Internet. \n",
    "\n",
    "## 2. Importancia en la web y motores de búsqueda\n",
    "### Anteriormente el Pagerank era la base del motor de búsqueda Google, un sistema de clasificación que cuando los motores de búsqueda fueron desarrollados por primera vez, la clasificación que se hacia para todos los sitios web era la misma, por lo que los resultados obtenidos estaban basados únicamente en las etiquetas de contenido. \n",
    "### n ese entonces el Pagerank revoluciono el posicionamiento de las paginas web en los buscadores a través de la incorporación de una pieza fundamental, la autoridad o relevancia de un sitio web. Para poder determinar esta importancia o autoridad, Google escogió varias páginas web de mayor envergadura a las que vinculaba otro sitio web el cual recibía una porción de esa autoridad o importancia.\n",
    "### Con el uso de esta técnica de transmitir relevancia, Google pudo contar la autoridad de una pagina web y establecer una table del 0 al 10 a la que se le conoció como Pagerank. La importancia de este componente en el entramado del posicionamiento de una pagina web es básico para todo webmaster que recién comienza y mucho más para los que ya tienen más experiencia. Hay que mencionar que el Pagerank de una pagina web puede conocerse fácilmente a través de Internet ya que existen muchos portales que ofrecen este servicio, sin embargo es importante mencionar que este valor es solamente una estimación que Google establece y que suele actualizarse cada 3 meses aproximadamente.\n",
    "### Asimismo, el Pagerank de una pagina web es de mucho interés no solamente para los motores de búsqueda, sino también para los compradores de enlaces, los propios dueños de paginas web, personas que trabajan en marketing y en general todos aquellos que estén interesados en el valor que se le da aun sitio web con la intención de conocer que tan importante es o cuanta relevancia tiene con respecto a otros sitios con contenido similar. Debido a que muchos webmasters han logrado incrementar el Pagerank artificialmente, Google ha endurecido las medidas que determinar la importancia de un sitio web por lo que en la actualidad disminuido, pero que sigue siendo básico para las paginas en Internet.\n",
    "### En lugar de actualizar los cada semana, Google ha optado por hacerlo cada cuatro años, por lo que ahora es más complicado conocer el verdadero valor de una pagina web. La única forma de conseguir Pagerank es conseguir un enlace a una sitio web que ya cuenta con una valor de Pagerank, sin embargo conseguir una gran cantidad de enlaces de una pagina web con Pagerank 0, no ayudara en nada incrementar el Pagerank de la pagina, pero por el contrario si se enlaza con una pagina con Pagerank 6, casi al instante se puede incrementar el valor de Pagerank de un sito a 5, en caso de que sea de la confianza de Google y no existan más vínculos con otras paginas web.\n",
    "\n"
   ]
  },
  {
   "cell_type": "markdown",
   "metadata": {},
   "source": [
    "## 2. Algoritmo:"
   ]
  },
  {
   "cell_type": "markdown",
   "metadata": {},
   "source": [
    "### Algoritmo PageRank  \n",
    "<div class=text-justify>\n",
    "### Usaremos un caso particular \n",
    "### Definimos nuestra matriz de adyacencia con los equipos sudamericanos que participaron para las eliminatorias del Mundial Rusia 2018\n",
    "#### Orden para cada País que participo en las eliminatorias\n",
    "\n",
    "1.  Argentina\t\n",
    "2.  Bolivia\t\n",
    "3.  Brasil\t\n",
    "4.  Chile\t\n",
    "5.  Colombia\t\n",
    "6.  Ecuador\t\n",
    "7.  Paraguay\t\n",
    "8.  Perú\t\n",
    "9.  Uruguay\t\n",
    "10. Venezuela\n",
    "\n",
    "#### Definimos nuestra matriz de adyacencia\n",
    "#### A[i,j] = 3 si el país 'i' le gano al país 'j'\n",
    "#### A[i,j] = 1 si el país 'i' empato con país 'j'\n",
    "#### A[i,j] = 0 si el país 'i' perdió con el país 'j'\n"
   ]
  },
  {
   "cell_type": "code",
   "execution_count": 6,
   "metadata": {},
   "outputs": [
    {
     "data": {
      "text/html": [
       "<table>\n",
       "<tbody>\n",
       "\t<tr><td>0</td><td>3</td><td>1</td><td>3</td><td>3</td><td>0</td><td>0</td><td>1</td><td>3</td><td>1</td></tr>\n",
       "\t<tr><td>3</td><td>0</td><td>1</td><td>3</td><td>0</td><td>1</td><td>3</td><td>0</td><td>0</td><td>3</td></tr>\n",
       "\t<tr><td>3</td><td>3</td><td>0</td><td>3</td><td>3</td><td>3</td><td>3</td><td>3</td><td>1</td><td>3</td></tr>\n",
       "\t<tr><td>0</td><td>0</td><td>0</td><td>0</td><td>1</td><td>3</td><td>0</td><td>3</td><td>3</td><td>3</td></tr>\n",
       "\t<tr><td>0</td><td>3</td><td>1</td><td>1</td><td>0</td><td>3</td><td>0</td><td>3</td><td>1</td><td>3</td></tr>\n",
       "\t<tr><td>0</td><td>3</td><td>0</td><td>3</td><td>0</td><td>0</td><td>1</td><td>0</td><td>3</td><td>3</td></tr>\n",
       "\t<tr><td>1</td><td>3</td><td>1</td><td>3</td><td>0</td><td>3</td><td>0</td><td>0</td><td>0</td><td>0</td></tr>\n",
       "\t<tr><td>1</td><td>3</td><td>0</td><td>0</td><td>1</td><td>3</td><td>3</td><td>0</td><td>3</td><td>1</td></tr>\n",
       "\t<tr><td>1</td><td>3</td><td>0</td><td>3</td><td>3</td><td>3</td><td>3</td><td>3</td><td>0</td><td>3</td></tr>\n",
       "\t<tr><td>1</td><td>3</td><td>0</td><td>0</td><td>1</td><td>0</td><td>0</td><td>1</td><td>1</td><td>0</td></tr>\n",
       "</tbody>\n",
       "</table>\n"
      ],
      "text/latex": [
       "\\begin{tabular}{llllllllll}\n",
       "\t 0 & 3 & 1 & 3 & 3 & 0 & 0 & 1 & 3 & 1\\\\\n",
       "\t 3 & 0 & 1 & 3 & 0 & 1 & 3 & 0 & 0 & 3\\\\\n",
       "\t 3 & 3 & 0 & 3 & 3 & 3 & 3 & 3 & 1 & 3\\\\\n",
       "\t 0 & 0 & 0 & 0 & 1 & 3 & 0 & 3 & 3 & 3\\\\\n",
       "\t 0 & 3 & 1 & 1 & 0 & 3 & 0 & 3 & 1 & 3\\\\\n",
       "\t 0 & 3 & 0 & 3 & 0 & 0 & 1 & 0 & 3 & 3\\\\\n",
       "\t 1 & 3 & 1 & 3 & 0 & 3 & 0 & 0 & 0 & 0\\\\\n",
       "\t 1 & 3 & 0 & 0 & 1 & 3 & 3 & 0 & 3 & 1\\\\\n",
       "\t 1 & 3 & 0 & 3 & 3 & 3 & 3 & 3 & 0 & 3\\\\\n",
       "\t 1 & 3 & 0 & 0 & 1 & 0 & 0 & 1 & 1 & 0\\\\\n",
       "\\end{tabular}\n"
      ],
      "text/markdown": [
       "\n",
       "| 0 | 3 | 1 | 3 | 3 | 0 | 0 | 1 | 3 | 1 | \n",
       "| 3 | 0 | 1 | 3 | 0 | 1 | 3 | 0 | 0 | 3 | \n",
       "| 3 | 3 | 0 | 3 | 3 | 3 | 3 | 3 | 1 | 3 | \n",
       "| 0 | 0 | 0 | 0 | 1 | 3 | 0 | 3 | 3 | 3 | \n",
       "| 0 | 3 | 1 | 1 | 0 | 3 | 0 | 3 | 1 | 3 | \n",
       "| 0 | 3 | 0 | 3 | 0 | 0 | 1 | 0 | 3 | 3 | \n",
       "| 1 | 3 | 1 | 3 | 0 | 3 | 0 | 0 | 0 | 0 | \n",
       "| 1 | 3 | 0 | 0 | 1 | 3 | 3 | 0 | 3 | 1 | \n",
       "| 1 | 3 | 0 | 3 | 3 | 3 | 3 | 3 | 0 | 3 | \n",
       "| 1 | 3 | 0 | 0 | 1 | 0 | 0 | 1 | 1 | 0 | \n",
       "\n",
       "\n"
      ],
      "text/plain": [
       "      [,1] [,2] [,3] [,4] [,5] [,6] [,7] [,8] [,9] [,10]\n",
       " [1,] 0    3    1    3    3    0    0    1    3    1    \n",
       " [2,] 3    0    1    3    0    1    3    0    0    3    \n",
       " [3,] 3    3    0    3    3    3    3    3    1    3    \n",
       " [4,] 0    0    0    0    1    3    0    3    3    3    \n",
       " [5,] 0    3    1    1    0    3    0    3    1    3    \n",
       " [6,] 0    3    0    3    0    0    1    0    3    3    \n",
       " [7,] 1    3    1    3    0    3    0    0    0    0    \n",
       " [8,] 1    3    0    0    1    3    3    0    3    1    \n",
       " [9,] 1    3    0    3    3    3    3    3    0    3    \n",
       "[10,] 1    3    0    0    1    0    0    1    1    0    "
      ]
     },
     "metadata": {},
     "output_type": "display_data"
    },
    {
     "ename": "ERROR",
     "evalue": "Error in library(igraph): there is no package called ‘igraph’\n",
     "output_type": "error",
     "traceback": [
      "Error in library(igraph): there is no package called ‘igraph’\nTraceback:\n",
      "1. library(igraph)",
      "2. stop(txt, domain = NA)"
     ]
    }
   ],
   "source": [
    "num_equipos <- 10\n",
    "#Se implementa la matriz\n",
    "A <- matrix(c(0, 3, 1 ,3, 3 ,0, 0, 1, 3, 1, \n",
    "              3, 0, 1, 3, 0, 1, 3, 0, 0, 3,\n",
    "              3, 3, 0, 3, 3, 3, 3, 3, 1, 3, \n",
    "              0, 0, 0, 0, 1, 3, 0, 3, 3, 3, \n",
    "              0, 3, 1, 1, 0, 3, 0, 3, 1, 3, \n",
    "              0, 3, 0, 3, 0, 0, 1, 0, 3, 3,\n",
    "              1, 3, 1, 3, 0, 3, 0, 0, 0, 0,\n",
    "              1, 3, 0, 0, 1, 3, 3, 0, 3, 1, \n",
    "              1, 3, 0, 3, 3, 3, 3, 3, 0, 3, \n",
    "              1, 3, 0, 0, 1, 0, 0, 1, 1, 0),\n",
    "            nrow = num_equipos,ncol = num_equipos,byrow = TRUE)\n",
    "A\n",
    "#graficamos en grafo \n",
    "library( igraph )\n",
    "plot(graph.adjacency(A))\n"
   ]
  },
  {
   "cell_type": "markdown",
   "metadata": {},
   "source": [
    "#### Primero tenemos que crear una nueva matrix A1 que resultará de dividir cada columna de la matriz A entre la suma de cada columna"
   ]
  },
  {
   "cell_type": "code",
   "execution_count": 7,
   "metadata": {},
   "outputs": [
    {
     "data": {
      "text/html": [
       "<table>\n",
       "<tbody>\n",
       "\t<tr><td>0.0       </td><td>0.125     </td><td>0.25      </td><td>0.15789474</td><td>0.25000000</td><td>0.00000000</td><td>0.00000000</td><td>0.07142857</td><td>0.20000000</td><td>0.05      </td></tr>\n",
       "\t<tr><td>0.3       </td><td>0.000     </td><td>0.25      </td><td>0.15789474</td><td>0.00000000</td><td>0.05263158</td><td>0.23076923</td><td>0.00000000</td><td>0.00000000</td><td>0.15      </td></tr>\n",
       "\t<tr><td>0.3       </td><td>0.125     </td><td>0.00      </td><td>0.15789474</td><td>0.25000000</td><td>0.15789474</td><td>0.23076923</td><td>0.21428571</td><td>0.06666667</td><td>0.15      </td></tr>\n",
       "\t<tr><td>0.0       </td><td>0.000     </td><td>0.00      </td><td>0.00000000</td><td>0.08333333</td><td>0.15789474</td><td>0.00000000</td><td>0.21428571</td><td>0.20000000</td><td>0.15      </td></tr>\n",
       "\t<tr><td>0.0       </td><td>0.125     </td><td>0.25      </td><td>0.05263158</td><td>0.00000000</td><td>0.15789474</td><td>0.00000000</td><td>0.21428571</td><td>0.06666667</td><td>0.15      </td></tr>\n",
       "\t<tr><td>0.0       </td><td>0.125     </td><td>0.00      </td><td>0.15789474</td><td>0.00000000</td><td>0.00000000</td><td>0.07692308</td><td>0.00000000</td><td>0.20000000</td><td>0.15      </td></tr>\n",
       "\t<tr><td>0.1       </td><td>0.125     </td><td>0.25      </td><td>0.15789474</td><td>0.00000000</td><td>0.15789474</td><td>0.00000000</td><td>0.00000000</td><td>0.00000000</td><td>0.00      </td></tr>\n",
       "\t<tr><td>0.1       </td><td>0.125     </td><td>0.00      </td><td>0.00000000</td><td>0.08333333</td><td>0.15789474</td><td>0.23076923</td><td>0.00000000</td><td>0.20000000</td><td>0.05      </td></tr>\n",
       "\t<tr><td>0.1       </td><td>0.125     </td><td>0.00      </td><td>0.15789474</td><td>0.25000000</td><td>0.15789474</td><td>0.23076923</td><td>0.21428571</td><td>0.00000000</td><td>0.15      </td></tr>\n",
       "\t<tr><td>0.1       </td><td>0.125     </td><td>0.00      </td><td>0.00000000</td><td>0.08333333</td><td>0.00000000</td><td>0.00000000</td><td>0.07142857</td><td>0.06666667</td><td>0.00      </td></tr>\n",
       "</tbody>\n",
       "</table>\n"
      ],
      "text/latex": [
       "\\begin{tabular}{llllllllll}\n",
       "\t 0.0        & 0.125      & 0.25       & 0.15789474 & 0.25000000 & 0.00000000 & 0.00000000 & 0.07142857 & 0.20000000 & 0.05      \\\\\n",
       "\t 0.3        & 0.000      & 0.25       & 0.15789474 & 0.00000000 & 0.05263158 & 0.23076923 & 0.00000000 & 0.00000000 & 0.15      \\\\\n",
       "\t 0.3        & 0.125      & 0.00       & 0.15789474 & 0.25000000 & 0.15789474 & 0.23076923 & 0.21428571 & 0.06666667 & 0.15      \\\\\n",
       "\t 0.0        & 0.000      & 0.00       & 0.00000000 & 0.08333333 & 0.15789474 & 0.00000000 & 0.21428571 & 0.20000000 & 0.15      \\\\\n",
       "\t 0.0        & 0.125      & 0.25       & 0.05263158 & 0.00000000 & 0.15789474 & 0.00000000 & 0.21428571 & 0.06666667 & 0.15      \\\\\n",
       "\t 0.0        & 0.125      & 0.00       & 0.15789474 & 0.00000000 & 0.00000000 & 0.07692308 & 0.00000000 & 0.20000000 & 0.15      \\\\\n",
       "\t 0.1        & 0.125      & 0.25       & 0.15789474 & 0.00000000 & 0.15789474 & 0.00000000 & 0.00000000 & 0.00000000 & 0.00      \\\\\n",
       "\t 0.1        & 0.125      & 0.00       & 0.00000000 & 0.08333333 & 0.15789474 & 0.23076923 & 0.00000000 & 0.20000000 & 0.05      \\\\\n",
       "\t 0.1        & 0.125      & 0.00       & 0.15789474 & 0.25000000 & 0.15789474 & 0.23076923 & 0.21428571 & 0.00000000 & 0.15      \\\\\n",
       "\t 0.1        & 0.125      & 0.00       & 0.00000000 & 0.08333333 & 0.00000000 & 0.00000000 & 0.07142857 & 0.06666667 & 0.00      \\\\\n",
       "\\end{tabular}\n"
      ],
      "text/markdown": [
       "\n",
       "| 0.0        | 0.125      | 0.25       | 0.15789474 | 0.25000000 | 0.00000000 | 0.00000000 | 0.07142857 | 0.20000000 | 0.05       | \n",
       "| 0.3        | 0.000      | 0.25       | 0.15789474 | 0.00000000 | 0.05263158 | 0.23076923 | 0.00000000 | 0.00000000 | 0.15       | \n",
       "| 0.3        | 0.125      | 0.00       | 0.15789474 | 0.25000000 | 0.15789474 | 0.23076923 | 0.21428571 | 0.06666667 | 0.15       | \n",
       "| 0.0        | 0.000      | 0.00       | 0.00000000 | 0.08333333 | 0.15789474 | 0.00000000 | 0.21428571 | 0.20000000 | 0.15       | \n",
       "| 0.0        | 0.125      | 0.25       | 0.05263158 | 0.00000000 | 0.15789474 | 0.00000000 | 0.21428571 | 0.06666667 | 0.15       | \n",
       "| 0.0        | 0.125      | 0.00       | 0.15789474 | 0.00000000 | 0.00000000 | 0.07692308 | 0.00000000 | 0.20000000 | 0.15       | \n",
       "| 0.1        | 0.125      | 0.25       | 0.15789474 | 0.00000000 | 0.15789474 | 0.00000000 | 0.00000000 | 0.00000000 | 0.00       | \n",
       "| 0.1        | 0.125      | 0.00       | 0.00000000 | 0.08333333 | 0.15789474 | 0.23076923 | 0.00000000 | 0.20000000 | 0.05       | \n",
       "| 0.1        | 0.125      | 0.00       | 0.15789474 | 0.25000000 | 0.15789474 | 0.23076923 | 0.21428571 | 0.00000000 | 0.15       | \n",
       "| 0.1        | 0.125      | 0.00       | 0.00000000 | 0.08333333 | 0.00000000 | 0.00000000 | 0.07142857 | 0.06666667 | 0.00       | \n",
       "\n",
       "\n"
      ],
      "text/plain": [
       "      [,1] [,2]  [,3] [,4]       [,5]       [,6]       [,7]       [,8]      \n",
       " [1,] 0.0  0.125 0.25 0.15789474 0.25000000 0.00000000 0.00000000 0.07142857\n",
       " [2,] 0.3  0.000 0.25 0.15789474 0.00000000 0.05263158 0.23076923 0.00000000\n",
       " [3,] 0.3  0.125 0.00 0.15789474 0.25000000 0.15789474 0.23076923 0.21428571\n",
       " [4,] 0.0  0.000 0.00 0.00000000 0.08333333 0.15789474 0.00000000 0.21428571\n",
       " [5,] 0.0  0.125 0.25 0.05263158 0.00000000 0.15789474 0.00000000 0.21428571\n",
       " [6,] 0.0  0.125 0.00 0.15789474 0.00000000 0.00000000 0.07692308 0.00000000\n",
       " [7,] 0.1  0.125 0.25 0.15789474 0.00000000 0.15789474 0.00000000 0.00000000\n",
       " [8,] 0.1  0.125 0.00 0.00000000 0.08333333 0.15789474 0.23076923 0.00000000\n",
       " [9,] 0.1  0.125 0.00 0.15789474 0.25000000 0.15789474 0.23076923 0.21428571\n",
       "[10,] 0.1  0.125 0.00 0.00000000 0.08333333 0.00000000 0.00000000 0.07142857\n",
       "      [,9]       [,10]\n",
       " [1,] 0.20000000 0.05 \n",
       " [2,] 0.00000000 0.15 \n",
       " [3,] 0.06666667 0.15 \n",
       " [4,] 0.20000000 0.15 \n",
       " [5,] 0.06666667 0.15 \n",
       " [6,] 0.20000000 0.15 \n",
       " [7,] 0.00000000 0.00 \n",
       " [8,] 0.20000000 0.05 \n",
       " [9,] 0.00000000 0.15 \n",
       "[10,] 0.06666667 0.00 "
      ]
     },
     "metadata": {},
     "output_type": "display_data"
    }
   ],
   "source": [
    "A1 <- matrix(nrow = num_equipos,ncol= num_equipos)\n",
    "#calculamos la matriz de probabilidades dónde la suma debe ser de cada columna debe ser 1\n",
    "for( i in 1:num_equipos){\n",
    "  sum_columna <- sum(A[,i])\n",
    "  A1[,i] = A[,i]/sum_columna\n",
    "}\n",
    "A1\n"
   ]
  },
  {
   "cell_type": "markdown",
   "metadata": {},
   "source": [
    "##### El siguiente paso es encontra un vector pagerank_equipos de tamaño 10 que represente el PageRank de cada equipo, y ¿cómo es ese vector? Pues es el vector propio del máximo valor propio\n",
    "#### Aprovechando el uso de R, utilizaremos la función eigen() para obtener los valores y vectores propios"
   ]
  },
  {
   "cell_type": "code",
   "execution_count": 5,
   "metadata": {},
   "outputs": [
    {
     "name": "stdout",
     "output_type": "stream",
     "text": [
      " [1] 1.00000000 0.39837662 0.25441107 0.25441107 0.24536339 0.24536339\n",
      " [7] 0.21468098 0.05836344 0.05539562 0.02231747\n",
      "           [,1]       [,2]       [,3]       [,4]       [,5]       [,6]\n",
      " [1,] 0.3793522 0.32945265 0.34835701 0.34835701 0.44262544 0.44262544\n",
      " [2,] 0.3616417 0.03076198 0.52287818 0.52287818 0.23755452 0.23755452\n",
      " [3,] 0.4738853 0.59078300 0.06964756 0.06964756 0.04749232 0.04749232\n",
      " [4,] 0.2163052 0.14918475 0.47003095 0.47003095 0.27669290 0.27669290\n",
      " [5,] 0.3153363 0.42852429 0.26574383 0.26574383 0.49037723 0.49037723\n",
      " [6,] 0.1977172 0.20065120 0.06504935 0.06504935 0.14474449 0.14474449\n",
      " [7,] 0.2669837 0.15904165 0.37215412 0.37215412 0.20900447 0.20900447\n",
      " [8,] 0.2846076 0.06974278 0.33309057 0.33309057 0.43495536 0.43495536\n",
      " [9,] 0.3731390 0.51087886 0.21435288 0.21435288 0.40988057 0.40988057\n",
      "[10,] 0.1546235 0.06468793 0.09601846 0.09601846 0.08089607 0.08089607\n",
      "            [,7]        [,8]       [,9]      [,10]\n",
      " [1,] 0.11917992 0.006020933 0.15529263 0.09598013\n",
      " [2,] 0.62248561 0.079817405 0.29784236 0.21303161\n",
      " [3,] 0.32794883 0.001076995 0.05677651 0.00392797\n",
      " [4,] 0.25449974 0.260075937 0.42523856 0.34552245\n",
      " [5,] 0.02640769 0.383333328 0.25933968 0.28723138\n",
      " [6,] 0.13870316 0.398196077 0.09562606 0.06725370\n",
      " [7,] 0.32525544 0.208420054 0.27598021 0.30147746\n",
      " [8,] 0.20540221 0.576205447 0.35426422 0.44279608\n",
      " [9,] 0.31462087 0.137456209 0.22868124 0.21473897\n",
      "[10,] 0.39885320 0.475501709 0.61053910 0.63711018\n"
     ]
    }
   ],
   "source": [
    "vector_ValoresPropios <- c(eigen(A1)$values)\n",
    "vector_VectoresPropios <- matrix(eigen(A1)$vectors,nrow = 10, ncol = 10)\n",
    "print(Mod(vector_ValoresPropios))\n",
    "print(Mod(vector_VectoresPropios))"
   ]
  },
  {
   "cell_type": "markdown",
   "metadata": {},
   "source": [
    "#### Ahora calculamos cual es el máximo valor propio."
   ]
  },
  {
   "cell_type": "code",
   "execution_count": 8,
   "metadata": {},
   "outputs": [
    {
     "ename": "ERROR",
     "evalue": "Error in eval(expr, envir, enclos): object 'vector_ValoresPropios' not found\n",
     "output_type": "error",
     "traceback": [
      "Error in eval(expr, envir, enclos): object 'vector_ValoresPropios' not found\nTraceback:\n"
     ]
    }
   ],
   "source": [
    "maxVP <- -Inf\n",
    "for(i in 1:10){\n",
    "  if(maxVP < Mod(vector_ValoresPropios[i])){\n",
    "    maxVP <- Mod(vector_ValoresPropios[i])\n",
    "    #indice relacionado con el máximo valor propio\n",
    "    index <- i\n",
    "  } \n",
    "}"
   ]
  },
  {
   "cell_type": "markdown",
   "metadata": {},
   "source": [
    "#### Imprimimos el máximo valor propio"
   ]
  },
  {
   "cell_type": "code",
   "execution_count": 8,
   "metadata": {},
   "outputs": [
    {
     "name": "stdout",
     "output_type": "stream",
     "text": [
      "[1] 1\n"
     ]
    }
   ],
   "source": [
    "print(maxVP)"
   ]
  },
  {
   "cell_type": "markdown",
   "metadata": {},
   "source": [
    "#### Imprimimos el vector propio relacionado a ese vector"
   ]
  },
  {
   "cell_type": "code",
   "execution_count": 9,
   "metadata": {},
   "outputs": [
    {
     "name": "stdout",
     "output_type": "stream",
     "text": [
      "[1] \"Argentina Bolivia Brasil Chile Colombia Ecuador Paraguay Perú Uruguay Venezuela\"\n",
      " [1] 0.3793522 0.3616417 0.4738853 0.2163052 0.3153363 0.1977172 0.2669837\n",
      " [8] 0.2846076 0.3731390 0.1546235\n"
     ]
    }
   ],
   "source": [
    "pagerank_equipos <- Mod(vector_VectoresPropios[,index])\n",
    "print(\"Argentina Bolivia Brasil Chile Colombia Ecuador Paraguay Perú Uruguay Venezuela\")\n",
    "print(pagerank_equipos)"
   ]
  },
  {
   "cell_type": "markdown",
   "metadata": {},
   "source": [
    "### Ahora ya tenemos el pagerank de cada uno"
   ]
  },
  {
   "cell_type": "code",
   "execution_count": null,
   "metadata": {},
   "outputs": [],
   "source": []
  }
 ],
 "metadata": {
  "kernelspec": {
   "display_name": "R",
   "language": "R",
   "name": "ir"
  },
  "language_info": {
   "codemirror_mode": "r",
   "file_extension": ".r",
   "mimetype": "text/x-r-source",
   "name": "R",
   "pygments_lexer": "r",
   "version": "3.4.4"
  }
 },
 "nbformat": 4,
 "nbformat_minor": 2
}
